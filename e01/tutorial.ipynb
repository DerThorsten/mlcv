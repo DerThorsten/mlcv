{
 "cells": [
  {
   "cell_type": "markdown",
   "metadata": {},
   "source": [
    "This very first exercise is supposed to give you a (not so) brief introduction into Python for scientific computing and image processing, because we are going to use Python in the remainder of this lecture.\n",
    "\n",
    "# Material availability\n",
    "\n",
    "We will make the exercise sheets and required files available in a Dropbox folder at: [http://tiny.cc/bmia16](http://tiny.cc/bmia16)\n",
    "\n",
    "# Python installation\n",
    "\n",
    "Please install the Anaconda python distribution, python version 3.5\n",
    "from [https://www.continuum.io/downloads](https://www.continuum.io/downloads). \n",
    "Anaconda is a distribution of Python that ships most packages that are used in scientific computing and image processing. Note that we **will not give support** for other Python distributions.\n",
    "\n",
    "Python can be used in two ways, either interactively (in the console / `ipython`), or\n",
    "you can write scripts (e.g. save it as `mycode.py`), and execute them by calling `python mycode.py`.\n",
    "You can use the interactive python console (`ipython`) by starting it directly from the command line,\n",
    "or by using the editor **spyder** that is included in Anaconda. We suggest to use **spyder** because\n",
    "it combines a text editor with the `ipython` console, and has an integrated variable explorer and \n",
    "help viewer similar to MATLAB.\n"
   ]
  },
  {
   "cell_type": "markdown",
   "metadata": {},
   "source": [
    "# Python introduction\n",
    "\n",
    "## The Scientific Python Ecosystem\n",
    "In this course, we are going to use the Python programming language. There exist many highly usable and well maintained scientific libraries for Python. Packages that are useful for image analysis are:\n",
    "\n",
    "* [numpy](http://numpy.org), provides multi-dimensional arrays and fast numeric routines that work with these arrays.\n",
    "* [scipy](http://scipy.org), a collection of many scientific algorithms for areas such as optimization, linear algebra, integration, interpolation, Fourier transforms, signal and image processing. Makes use of numpy arrays.\n",
    "* [matplotlib](http://matplotlib.org), a plotting library which provides a MATLAB like interface. Check out the great gallery with many examples.\n",
    "* [scikit-learn](http://scikit-learn.org), a quickly growing collection of machine learning algorithms, such as Support Vector Machines, Decision Trees, Nearest Neighbor Methods and many more. Their website offers good overview documentation and great examples, too.\n",
    "* [scikit-image](http://scikit-image.org), a collection of image processing algorithms.\n",
    "* [vigranumpy](http://hci.iwr.uni-heidelberg.de/vigra), a C++ library for multidimensional ar- rays, image processing and machine learning, developed in our group. It exposes most functions to Python via the vigranumpy module.\n",
    "\n",
    "Below is an introduction to Python with a focus on the elements needed in this lecture."
   ]
  },
  {
   "cell_type": "markdown",
   "metadata": {},
   "source": [
    "## Python basics: interactive calculator, variables\n",
    "\n",
    "Python is a powerful pocket calculator:"
   ]
  },
  {
   "cell_type": "code",
   "execution_count": 2,
   "metadata": {},
   "outputs": [
    {
     "data": {
      "text/plain": [
       "0.25"
      ]
     },
     "execution_count": 2,
     "metadata": {},
     "output_type": "execute_result"
    }
   ],
   "source": [
    "1 / 4 # WARNING: in python 2 this gives you integer division!"
   ]
  },
  {
   "cell_type": "code",
   "execution_count": null,
   "metadata": {
    "collapsed": true
   },
   "outputs": [],
   "source": [
    "3 + 7 - 5"
   ]
  },
  {
   "cell_type": "code",
   "execution_count": null,
   "metadata": {
    "collapsed": true
   },
   "outputs": [],
   "source": [
    "# use ** for exponentiation: base ** exponent\n",
    "2 ** 3"
   ]
  },
  {
   "cell_type": "markdown",
   "metadata": {},
   "source": [
    "Store any kind of result in a variable and compute with variables.\n",
    "Variable names can be any name (no spaces!) \n",
    "that starts with a letter or underscore"
   ]
  },
  {
   "cell_type": "code",
   "execution_count": null,
   "metadata": {
    "collapsed": true
   },
   "outputs": [],
   "source": [
    "a = 3\n",
    "b = 8\n",
    "\n",
    "a * b"
   ]
  },
  {
   "cell_type": "markdown",
   "metadata": {},
   "source": [
    "## Python basics: strings, lists, accessing ranges of values\n",
    "\n",
    "Variables can store different things than numbers!\n",
    "For instance strings (single or double quotes)"
   ]
  },
  {
   "cell_type": "code",
   "execution_count": 2,
   "metadata": {},
   "outputs": [
    {
     "data": {
      "text/plain": [
       "'Carsten'"
      ]
     },
     "execution_count": 2,
     "metadata": {},
     "output_type": "execute_result"
    }
   ],
   "source": [
    "name = 'Carsten'\n",
    "name"
   ]
  },
  {
   "cell_type": "code",
   "execution_count": 4,
   "metadata": {
    "collapsed": true
   },
   "outputs": [],
   "source": [
    "# lists are comma separated values enclosed in []-brackets\n",
    "listOfNumbers = [1, 2, 3]\n",
    "listOfStrings = ['cat', 'dog', 'apple', 'chair']"
   ]
  },
  {
   "cell_type": "code",
   "execution_count": 5,
   "metadata": {},
   "outputs": [
    {
     "data": {
      "text/plain": [
       "'cat'"
      ]
     },
     "execution_count": 5,
     "metadata": {},
     "output_type": "execute_result"
    }
   ],
   "source": [
    "# access element in list - zero-based indexing!\n",
    "listOfStrings[0]"
   ]
  },
  {
   "cell_type": "code",
   "execution_count": 6,
   "metadata": {},
   "outputs": [
    {
     "data": {
      "text/plain": [
       "2"
      ]
     },
     "execution_count": 6,
     "metadata": {},
     "output_type": "execute_result"
    }
   ],
   "source": [
    "listOfNumbers[1]"
   ]
  },
  {
   "cell_type": "code",
   "execution_count": 7,
   "metadata": {},
   "outputs": [
    {
     "data": {
      "text/plain": [
       "'chair'"
      ]
     },
     "execution_count": 7,
     "metadata": {},
     "output_type": "execute_result"
    }
   ],
   "source": [
    "# access elements in list from behind by using negative indices!\n",
    "listOfStrings[-1]"
   ]
  },
  {
   "cell_type": "code",
   "execution_count": null,
   "metadata": {
    "collapsed": true
   },
   "outputs": [],
   "source": [
    "listOfNumbers[-3]"
   ]
  },
  {
   "cell_type": "code",
   "execution_count": 8,
   "metadata": {},
   "outputs": [
    {
     "data": {
      "text/plain": [
       "[1, 2]"
      ]
     },
     "execution_count": 8,
     "metadata": {},
     "output_type": "execute_result"
    }
   ],
   "source": [
    "# get a range of elements from a list: \"startIndex:endIndex\", \n",
    "# where endIndex is not included any more\n",
    "listOfNumbers[0:2]"
   ]
  },
  {
   "cell_type": "code",
   "execution_count": 9,
   "metadata": {},
   "outputs": [
    {
     "data": {
      "text/plain": [
       "['dog', 'apple']"
      ]
     },
     "execution_count": 9,
     "metadata": {},
     "output_type": "execute_result"
    }
   ],
   "source": [
    "listOfStrings[1:-1]"
   ]
  },
  {
   "cell_type": "code",
   "execution_count": 10,
   "metadata": {},
   "outputs": [
    {
     "data": {
      "text/plain": [
       "[1, 2]"
      ]
     },
     "execution_count": 10,
     "metadata": {},
     "output_type": "execute_result"
    }
   ],
   "source": [
    "# if one of the bounds of a range is not specified, \n",
    "# the range will start at the beginning, or end at the end of the list\n",
    "listOfNumbers[:2]"
   ]
  },
  {
   "cell_type": "code",
   "execution_count": null,
   "metadata": {
    "collapsed": true
   },
   "outputs": [],
   "source": [
    "listOfStrings[2:]"
   ]
  },
  {
   "cell_type": "code",
   "execution_count": null,
   "metadata": {
    "collapsed": true
   },
   "outputs": [],
   "source": [
    "# omitting start AND end index gives you the full list as well\n",
    "bla = [1,2,3]\n",
    "blupp = bla\n",
    "blupp[1] = 3\n",
    "bla[:] = [5,6,7]\n",
    "blupp"
   ]
  },
  {
   "cell_type": "code",
   "execution_count": null,
   "metadata": {
    "collapsed": true
   },
   "outputs": [],
   "source": [
    "# strings are lists of characters, can be indexed the same way\n",
    "name[3:]"
   ]
  },
  {
   "cell_type": "markdown",
   "metadata": {},
   "source": [
    "## Python basics: printing results a bit more structured"
   ]
  },
  {
   "cell_type": "code",
   "execution_count": null,
   "metadata": {
    "collapsed": true
   },
   "outputs": [],
   "source": [
    "print(\"Hello World\")\n",
    "name = 'Carsten'\n",
    "number = 42\n",
    "print(\"Hello\", name, \", the answer to everything is\", number)"
   ]
  },
  {
   "cell_type": "markdown",
   "metadata": {},
   "source": [
    "## Python basics: comparisons, if / else, for-loops\n",
    "\n",
    "Conditions e.g. using math relations (<, >, <=, >=, ==) can be checked with \"`if`\".\n",
    "An if-clause ends with a colon \"`:`\", and all lines of code that should be\n",
    "executed if the condition is true are indented (standard: 4 spaces, do **not** mix tabs and spaces!)"
   ]
  },
  {
   "cell_type": "code",
   "execution_count": null,
   "metadata": {
    "collapsed": true
   },
   "outputs": [],
   "source": [
    "if 1 > 3:\n",
    "\tprint(\"In what dimension do you live in???\")"
   ]
  },
  {
   "cell_type": "code",
   "execution_count": null,
   "metadata": {
    "collapsed": true
   },
   "outputs": [],
   "source": [
    "# one can also specify what to do if the condition is not true\n",
    "if 1 > 3:\n",
    "\tprint(\"In what dimension do you live in???\")\n",
    "else:\n",
    "\tprint(\"1 is not greater than 3!\")"
   ]
  },
  {
   "cell_type": "code",
   "execution_count": null,
   "metadata": {
    "collapsed": true
   },
   "outputs": [],
   "source": [
    "# several options can be concatenated (elif = else if)\n",
    "if 1 > 3:\n",
    "\tprint(\"In what dimension do you live in???\")\n",
    "elif 1 < 3:\n",
    "\tprint(\"That's right!\")\n",
    "else:\n",
    "\tprint(\"should never get here...\")"
   ]
  },
  {
   "cell_type": "code",
   "execution_count": null,
   "metadata": {
    "collapsed": true
   },
   "outputs": [],
   "source": [
    "# python knows the two basic truth types: True and False (booleans)\n",
    "truth = True\n",
    "truth"
   ]
  },
  {
   "cell_type": "code",
   "execution_count": null,
   "metadata": {
    "collapsed": true
   },
   "outputs": [],
   "source": [
    "# conditions evaluate to True or False\n",
    "truth = 1 > 3\n",
    "truth"
   ]
  },
  {
   "cell_type": "code",
   "execution_count": null,
   "metadata": {
    "collapsed": true
   },
   "outputs": [],
   "source": [
    "# conditions can use variables\n",
    "number = 32\n",
    "if number / 8 > 3:\n",
    "\tprint(\"yay\")"
   ]
  },
  {
   "cell_type": "code",
   "execution_count": null,
   "metadata": {
    "collapsed": true
   },
   "outputs": [],
   "source": [
    "# conditions can be concatenated using \"and\" and \"or\"\n",
    "if 1 < 3 and 2 > 5:\n",
    "\tprint(\"aaargh\")"
   ]
  },
  {
   "cell_type": "code",
   "execution_count": null,
   "metadata": {
    "collapsed": true
   },
   "outputs": [],
   "source": [
    "# conditions can be negated using \"not\"\n",
    "if 1 < 3 and not 2 > 5:\n",
    "\tprint(\"yay\")"
   ]
  },
  {
   "cell_type": "code",
   "execution_count": null,
   "metadata": {
    "collapsed": true
   },
   "outputs": [],
   "source": [
    "# for-loops can execute some code for each element of a list\n",
    "listOfNumbers = [1, 2, 3]\n",
    "for n in listOfNumbers:\n",
    "\tprint(\"Found\", n)"
   ]
  },
  {
   "cell_type": "code",
   "execution_count": null,
   "metadata": {
    "collapsed": true
   },
   "outputs": [],
   "source": [
    "# If you want to do something for all natural numbers in a range, use range([start],end).\n",
    "# Only specifying the end index starts at 0. The end index is again not included!\n",
    "for n in range(5):\n",
    "\tprint(\"Found\", n)"
   ]
  },
  {
   "cell_type": "code",
   "execution_count": null,
   "metadata": {
    "collapsed": true
   },
   "outputs": [],
   "source": [
    "# this time we give a lower bound as well\n",
    "for n in range(2, 5):\n",
    "\tprint(\"Found\", n, \"with square:\", n**2)"
   ]
  },
  {
   "cell_type": "markdown",
   "metadata": {},
   "source": [
    "## Python basics: defining and calling functions\n",
    "\n",
    "Let's define our own absolute function. Function definitions start with \"`def`\",\n",
    "follwed by the function name, and then in parentheses the function arguments. \n",
    "The end is again marked by a colon, and the following code is indented.\n",
    "Functions can return values using the \"`return`\" statement, which makes the function exit immediately."
   ]
  },
  {
   "cell_type": "code",
   "execution_count": null,
   "metadata": {
    "collapsed": true
   },
   "outputs": [],
   "source": [
    "def absolute(x):\n",
    "\tif x >= 0:\n",
    "\t\treturn x, 15\n",
    "\telse:\n",
    "\t\treturn -x, 42\n",
    "\tprint(\"This is never reached\")\n",
    "\n",
    "# To call a function, write its name, and then give arguments in parentheses.\n",
    "absolute(5)"
   ]
  },
  {
   "cell_type": "code",
   "execution_count": null,
   "metadata": {
    "collapsed": true
   },
   "outputs": [],
   "source": [
    "a,b = absolute(-17)\n",
    "b"
   ]
  },
  {
   "cell_type": "code",
   "execution_count": null,
   "metadata": {
    "collapsed": true
   },
   "outputs": [],
   "source": [
    "# the returned value of a function can again be stored in a variable\n",
    "number = -12.34\n",
    "result = absolute(number)\n",
    "print(\"The absolute of\", number, \"is\", result)"
   ]
  },
  {
   "cell_type": "markdown",
   "metadata": {},
   "source": [
    "## Python basics: importing modules\n",
    "We can use code from other \"modules\" in python by \"importing\" them. \n",
    "Numpy stands for \"numerical python\" and gives you most math features we will need in this lecture."
   ]
  },
  {
   "cell_type": "code",
   "execution_count": null,
   "metadata": {
    "collapsed": true
   },
   "outputs": [],
   "source": [
    "import numpy\n",
    "\n",
    "# use a method and a variable defined in that module:\n",
    "numpy.cos(0.5 * numpy.pi)"
   ]
  },
  {
   "cell_type": "code",
   "execution_count": null,
   "metadata": {
    "collapsed": true
   },
   "outputs": [],
   "source": [
    "# The \"as\" statement allows you to specify an alias \n",
    "# to access functions from within that module with less typing.\n",
    "import numpy as np\n",
    "np.cos(0.5 * np.pi)"
   ]
  },
  {
   "cell_type": "markdown",
   "metadata": {},
   "source": [
    "## Numpy basics: multi dimensional arrays"
   ]
  },
  {
   "cell_type": "code",
   "execution_count": null,
   "metadata": {
    "collapsed": true
   },
   "outputs": [],
   "source": [
    "# define a 1D array from a list\n",
    "a = np.array([1, 2, 3, 4, 5])\n",
    "\n",
    "# indexing works like for lists\n",
    "a[2:-1]"
   ]
  },
  {
   "cell_type": "code",
   "execution_count": null,
   "metadata": {
    "collapsed": true
   },
   "outputs": [],
   "source": [
    "# numpy arrays have a \"shape\", which is the size in each dimension\n",
    "a.shape"
   ]
  },
  {
   "cell_type": "code",
   "execution_count": null,
   "metadata": {
    "collapsed": true
   },
   "outputs": [],
   "source": [
    "# you can find the datatype of the values inside that array\n",
    "a.dtype"
   ]
  },
  {
   "cell_type": "code",
   "execution_count": null,
   "metadata": {
    "collapsed": true
   },
   "outputs": [],
   "source": [
    "# arrays can tell you their min and max value\n",
    "print(a.min(), a.max())"
   ]
  },
  {
   "cell_type": "code",
   "execution_count": null,
   "metadata": {
    "collapsed": true
   },
   "outputs": [],
   "source": [
    "# 2-dimensional arrays can be created as a list of lists (each inner list is a row!)\n",
    "b = np.array([[1,2], [3,4], [5,6]])\n",
    "b"
   ]
  },
  {
   "cell_type": "code",
   "execution_count": null,
   "metadata": {
    "collapsed": true
   },
   "outputs": [],
   "source": [
    "# the shape has now two entries (rows, columns)\n",
    "b.shape"
   ]
  },
  {
   "cell_type": "code",
   "execution_count": null,
   "metadata": {
    "collapsed": true
   },
   "outputs": [],
   "source": [
    "# element acces now needs two indices or ranges\n",
    "b[0, 0]"
   ]
  },
  {
   "cell_type": "code",
   "execution_count": null,
   "metadata": {
    "collapsed": true
   },
   "outputs": [],
   "source": [
    "b[2, 1]"
   ]
  },
  {
   "cell_type": "code",
   "execution_count": null,
   "metadata": {
    "collapsed": true
   },
   "outputs": [],
   "source": [
    "# get the entries from ALL rows (= colon), second column (=index 1)\n",
    "b[:, 1]"
   ]
  },
  {
   "cell_type": "code",
   "execution_count": null,
   "metadata": {
    "collapsed": true
   },
   "outputs": [],
   "source": [
    "# we can now work with the elements that we've adressed\n",
    "b[:, 1] = b[:, 1] + 4\n",
    "b[:, 1] += 4\n",
    "b"
   ]
  },
  {
   "cell_type": "code",
   "execution_count": null,
   "metadata": {
    "collapsed": true
   },
   "outputs": [],
   "source": [
    "# Arrays can also be created of a fixed size filled with zeros.\n",
    "# The shape must be specified as list if there are more than one dimension.\n",
    "c = np.zeros( [5,3] )\n",
    "c.shape\n",
    "c"
   ]
  },
  {
   "cell_type": "code",
   "execution_count": null,
   "metadata": {
    "collapsed": true
   },
   "outputs": [],
   "source": [
    "# or initialize an array with random numbers between 0 and 1\n",
    "d = np.random.random( [5,3] )\n",
    "d"
   ]
  },
  {
   "cell_type": "code",
   "execution_count": null,
   "metadata": {
    "collapsed": true
   },
   "outputs": [],
   "source": [
    "# or initialize an array with a range of numbers: params are (start, stop, step)\n",
    "# where the stop value is not included any more\n",
    "e = np.arange(0.0, 1.0, 0.01)\n",
    "e.shape\n",
    "e"
   ]
  },
  {
   "cell_type": "code",
   "execution_count": null,
   "metadata": {
    "collapsed": true
   },
   "outputs": [],
   "source": [
    "# Similar to the one above, might be more familiar to matlab users: \n",
    "# (start, stop, numberOfSteps), where stop IS included\n",
    "e = np.linspace(0.0, 1.0, 101)\n",
    "e.shape\n",
    "e"
   ]
  },
  {
   "cell_type": "markdown",
   "metadata": {},
   "source": [
    "## Numpy basics: matrix and vector algebra\n",
    "Most numpy math operations can be applied to matrices \n",
    "as well as scalars, then they are applied per element."
   ]
  },
  {
   "cell_type": "code",
   "execution_count": null,
   "metadata": {
    "collapsed": true
   },
   "outputs": [],
   "source": [
    "a = np.array([1,2,3,4,5]) * np.pi\n",
    "a"
   ]
  },
  {
   "cell_type": "code",
   "execution_count": null,
   "metadata": {
    "collapsed": true
   },
   "outputs": [],
   "source": [
    "np.cos(a)"
   ]
  },
  {
   "cell_type": "markdown",
   "metadata": {},
   "source": [
    "Numpy can perform matrix multiplication and matrix-vector, but you have to use `np.dot`.\n",
    "$A * B$ does not give you real matrix multiplication!"
   ]
  },
  {
   "cell_type": "code",
   "execution_count": null,
   "metadata": {
    "collapsed": true
   },
   "outputs": [],
   "source": [
    "a = np.eye(3) * 2 # create identity matrix of shape 3x3, then multiply by 2\n",
    "a"
   ]
  },
  {
   "cell_type": "code",
   "execution_count": null,
   "metadata": {
    "collapsed": true
   },
   "outputs": [],
   "source": [
    "b = np.array([1,2,3]) # vector of shape 3(x1)\n",
    "b.shape"
   ]
  },
  {
   "cell_type": "code",
   "execution_count": null,
   "metadata": {
    "collapsed": true
   },
   "outputs": [],
   "source": [
    "# one would think you could perform a matrix-vector multiplication\n",
    "# as follows:\n",
    "a * b"
   ]
  },
  {
   "cell_type": "code",
   "execution_count": null,
   "metadata": {
    "collapsed": true
   },
   "outputs": [],
   "source": [
    "# but if you want to get back a vector:\n",
    "np.dot(b, a)"
   ]
  },
  {
   "cell_type": "code",
   "execution_count": null,
   "metadata": {
    "collapsed": true
   },
   "outputs": [],
   "source": [
    "# let's try this for matrix-matrix multiplication\n",
    "c = np.array([[1,2], [3,4], [5,6]])\n",
    "a * c"
   ]
  },
  {
   "cell_type": "code",
   "execution_count": null,
   "metadata": {
    "collapsed": true
   },
   "outputs": [],
   "source": [
    "np.dot(a, c)"
   ]
  },
  {
   "cell_type": "markdown",
   "metadata": {},
   "source": [
    "You can access the transpose of a matrix by appending `.T`:"
   ]
  },
  {
   "cell_type": "code",
   "execution_count": null,
   "metadata": {
    "collapsed": true
   },
   "outputs": [],
   "source": [
    "# get the transpose\n",
    "c.T"
   ]
  },
  {
   "cell_type": "code",
   "execution_count": null,
   "metadata": {
    "collapsed": true
   },
   "outputs": [],
   "source": [
    "# now we could also do c^T * a\n",
    "np.dot(c.T,a)"
   ]
  },
  {
   "cell_type": "markdown",
   "metadata": {},
   "source": [
    "## Numpy basics: array access by a truth array"
   ]
  },
  {
   "cell_type": "code",
   "execution_count": null,
   "metadata": {
    "collapsed": true
   },
   "outputs": [],
   "source": [
    "# we can also store boolean values inside an array and use it as mask\n",
    "mask = np.array([True, False, True, False, True])\n",
    "a = np.array([1, 2, 3, 4, 5])\n",
    "a[mask]"
   ]
  },
  {
   "cell_type": "code",
   "execution_count": null,
   "metadata": {
    "collapsed": true
   },
   "outputs": [],
   "source": [
    "# conditions on the full array can create these truth arrays \n",
    "# (by checking for each element)\n",
    "mask2 = a > 3\n",
    "mask2"
   ]
  },
  {
   "cell_type": "code",
   "execution_count": null,
   "metadata": {
    "collapsed": true
   },
   "outputs": [],
   "source": [
    "a[mask2]"
   ]
  },
  {
   "cell_type": "code",
   "execution_count": null,
   "metadata": {
    "collapsed": true
   },
   "outputs": [],
   "source": [
    "# We could have written the condition inside the []-brackets.\n",
    "# Again, the returned values can be modified directly, e.g. using +=, ...\n",
    "a[a < thresh] = 0\n",
    "a"
   ]
  },
  {
   "cell_type": "markdown",
   "metadata": {},
   "source": [
    "## Plotting graphs and 2D-arrays"
   ]
  },
  {
   "cell_type": "code",
   "execution_count": null,
   "metadata": {
    "collapsed": true
   },
   "outputs": [],
   "source": [
    "# get plotting functionality with pretty much the same syntax as matlab plotting\n",
    "import matplotlib.pyplot as plt\n",
    "# the following line is only needed in ipython notebooks.\n",
    "# Do not put it into your python scripts\n",
    "%matplotlib inline\n",
    "\n",
    "# plot a set of points\n",
    "plt.figure()\n",
    "plt.scatter([1,2,3,4], [8,5,2,6])\n",
    "plt.show()"
   ]
  },
  {
   "cell_type": "code",
   "execution_count": null,
   "metadata": {
    "collapsed": true
   },
   "outputs": [],
   "source": [
    "# plot a line\n",
    "plt.figure()\n",
    "plt.plot([1,2,3,4], [8,5,2,6])\n",
    "plt.show()"
   ]
  },
  {
   "cell_type": "code",
   "execution_count": null,
   "metadata": {
    "collapsed": true
   },
   "outputs": [],
   "source": [
    "# plot two lines with different colors\n",
    "plt.figure()\n",
    "plt.plot([1,2,3,4], [8,5,2,6], 'r') # r for red\n",
    "plt.plot([1,2,3,4], [3,6,4,9], 'b') # b for blue\n",
    "plt.show()"
   ]
  },
  {
   "cell_type": "code",
   "execution_count": null,
   "metadata": {
    "collapsed": true
   },
   "outputs": [],
   "source": [
    "# save a plot to a file\n",
    "plt.figure()\n",
    "plt.plot([1,2,3,4], [8,5,2,6])\n",
    "plt.savefig('/Users/chaubold/Desktop/test.pdf')"
   ]
  },
  {
   "cell_type": "code",
   "execution_count": null,
   "metadata": {
    "collapsed": true
   },
   "outputs": [],
   "source": [
    "# plot a sine function, give axis labeling\n",
    "plt.figure()\n",
    "x = np.linspace(0.0, 2.0*np.pi, num=100) \n",
    "plt.plot(x, np.sin(x))\n",
    "plt.xlabel('Angle [rad]')\n",
    "plt.ylabel('$sin(x)$')  # latex math is allowed in matplotlib!\n",
    "plt.title('Sine')\n",
    "plt.show()"
   ]
  },
  {
   "cell_type": "code",
   "execution_count": null,
   "metadata": {
    "collapsed": true
   },
   "outputs": [],
   "source": [
    "# plot a random 2D array as image\n",
    "# (by default it uses a heatmap-colorscheme: \n",
    "#  lowest value in array is blue, highest=red)\n",
    "randomImage = np.random.random( [30,30] )\n",
    "plt.figure()\n",
    "plt.imshow(randomImage)\n",
    "plt.show()"
   ]
  },
  {
   "cell_type": "markdown",
   "metadata": {},
   "source": [
    "**Note the ugly interpolation above, please always use `interpolation=\"nearest\"` to prevent that**!"
   ]
  },
  {
   "cell_type": "code",
   "execution_count": null,
   "metadata": {
    "collapsed": true
   },
   "outputs": [],
   "source": [
    "plt.figure()\n",
    "plt.imshow(randomImage, interpolation='nearest')\n",
    "plt.show()"
   ]
  },
  {
   "cell_type": "code",
   "execution_count": null,
   "metadata": {
    "collapsed": true
   },
   "outputs": [],
   "source": [
    "# plot it in grayscale\n",
    "plt.figure()\n",
    "plt.imshow(randomImage, cmap='gray', interpolation='nearest')\n",
    "plt.show()"
   ]
  },
  {
   "cell_type": "markdown",
   "metadata": {},
   "source": [
    "## Loading and displaying images"
   ]
  },
  {
   "cell_type": "code",
   "execution_count": null,
   "metadata": {
    "collapsed": true
   },
   "outputs": [],
   "source": [
    "# get documentation of the imread function:\n",
    "plt.imread?"
   ]
  },
  {
   "cell_type": "markdown",
   "metadata": {},
   "source": [
    "```\n",
    "Signature: plt.imread(*args, **kwargs)\n",
    "Docstring:\n",
    "Read an image from a file into an array.\n",
    "\n",
    "*fname* may be a string path or a Python file-like object.  If\n",
    "using a file object, it must be opened in binary mode.\n",
    "\n",
    "If *format* is provided, will try to read file of that type,\n",
    "otherwise the format is deduced from the filename.  If nothing can\n",
    "be deduced, PNG is tried.\n",
    "\n",
    "Return value is a :class:`numpy.array`.  For grayscale images, the\n",
    "return array is MxN.  For RGB images, the return value is MxNx3.\n",
    "For RGBA images the return value is MxNx4.\n",
    "\n",
    "matplotlib can only read PNGs natively, but if `PIL\n",
    "<http://www.pythonware.com/products/pil/>`_ is installed, it will\n",
    "use it to load the image and return an array (if possible) which\n",
    "can be used with :func:`~matplotlib.pyplot.imshow`.\n",
    "\n",
    "```"
   ]
  },
  {
   "cell_type": "code",
   "execution_count": null,
   "metadata": {
    "collapsed": true
   },
   "outputs": [],
   "source": [
    "# load an image. This one has 3 color channels, for Red Green Blue (=RGB).\n",
    "# you can get it e.g. in the ex 01 folder at http://tiny.cc/bmia16\n",
    "image = plt.imread('/Users/chaubold/Dropbox/16s-exercises-haubold/ex01/zebra.jpg')\n",
    "image.shape"
   ]
  },
  {
   "cell_type": "code",
   "execution_count": null,
   "metadata": {
    "collapsed": true
   },
   "outputs": [],
   "source": [
    "image.dtype"
   ]
  },
  {
   "cell_type": "code",
   "execution_count": null,
   "metadata": {
    "collapsed": true
   },
   "outputs": [],
   "source": [
    "# Show image, using the three color channels\n",
    "plt.imshow(image)\n",
    "plt.show()"
   ]
  },
  {
   "cell_type": "code",
   "execution_count": null,
   "metadata": {
    "collapsed": true
   },
   "outputs": [],
   "source": [
    "# show only the green channel (closely related to grayscale intensity)\n",
    "grayImage = image[:,:,1]\n",
    "plt.imshow(grayImage, cmap='gray')\n",
    "plt.show()"
   ]
  },
  {
   "cell_type": "markdown",
   "metadata": {},
   "source": [
    "numpy slicing (e.g. taking out the green channel) gives you a view into\n",
    "the real data, it does not copy the values! \n",
    "So if we alter values in `grayImage`, `image` will also change!\n",
    "Let's set a block of the green channel to zero:"
   ]
  },
  {
   "cell_type": "code",
   "execution_count": null,
   "metadata": {
    "collapsed": true
   },
   "outputs": [],
   "source": [
    "grayImage[100:200, 300:400] = 0.0\n",
    "\n",
    "# see the change:\n",
    "plt.imshow(grayImage, cmap='gray')\n",
    "plt.show()"
   ]
  },
  {
   "cell_type": "code",
   "execution_count": null,
   "metadata": {
    "collapsed": true
   },
   "outputs": [],
   "source": [
    "plt.imshow(image)\n",
    "plt.show()"
   ]
  },
  {
   "cell_type": "markdown",
   "metadata": {},
   "source": [
    "## Complex numbers: 1 + 3j"
   ]
  },
  {
   "cell_type": "code",
   "execution_count": null,
   "metadata": {
    "collapsed": true
   },
   "outputs": [],
   "source": [
    "# python has built-in support for complex numbers, where \"j\" = sqrt(-1).\n",
    "a = 3\n",
    "x = 1 + 3j\n",
    "y = 4 + 6j"
   ]
  },
  {
   "cell_type": "code",
   "execution_count": null,
   "metadata": {
    "collapsed": true
   },
   "outputs": [],
   "source": [
    "# supports operations\n",
    "x+y"
   ]
  },
  {
   "cell_type": "code",
   "execution_count": null,
   "metadata": {
    "collapsed": true
   },
   "outputs": [],
   "source": [
    "x*y"
   ]
  },
  {
   "cell_type": "code",
   "execution_count": null,
   "metadata": {
    "collapsed": true
   },
   "outputs": [],
   "source": [
    "# .imag gives the imaginary component, .real the real\n",
    "x.real"
   ]
  },
  {
   "cell_type": "code",
   "execution_count": null,
   "metadata": {
    "collapsed": true
   },
   "outputs": [],
   "source": [
    "(x+y).real"
   ]
  },
  {
   "cell_type": "code",
   "execution_count": null,
   "metadata": {
    "collapsed": true
   },
   "outputs": [],
   "source": [
    "# set up a complex sinusoid function using cosine, sine, and exp (e ** something)\n",
    "x = np.arange(0.0, 1.0, 0.01) # range from 0 to 1 in 0.01 steps\n",
    "k = 3\n",
    "sigma = 3.0\n",
    "complexSinusoid = (np.cos(2 * np.pi * k * x) + 1j \n",
    "                   * np.sin(2*np.pi*k*x)) * np.exp(-(x ** 2) / (2 * sigma**2))\n",
    "# this gives us 100 elements of a complex datatype!"
   ]
  },
  {
   "cell_type": "code",
   "execution_count": null,
   "metadata": {
    "collapsed": true
   },
   "outputs": [],
   "source": [
    "complexSinusoid"
   ]
  },
  {
   "cell_type": "code",
   "execution_count": null,
   "metadata": {
    "collapsed": true
   },
   "outputs": [],
   "source": [
    "complexSinusoid.dtype"
   ]
  },
  {
   "cell_type": "code",
   "execution_count": null,
   "metadata": {
    "collapsed": true
   },
   "outputs": [],
   "source": [
    "# plot a figure that shows the complex and the real parts in different colors\n",
    "plt.figure()\n",
    "plt.plot(complexSinusoid.real, 'r')\n",
    "plt.plot(complexSinusoid.imag, 'b')\n",
    "plt.show()"
   ]
  },
  {
   "cell_type": "markdown",
   "metadata": {},
   "source": [
    "## Create a 2D array of complex numbers"
   ]
  },
  {
   "cell_type": "code",
   "execution_count": null,
   "metadata": {
    "collapsed": true
   },
   "outputs": [],
   "source": [
    "# creating a 2D array filled with complex zeros:\n",
    "a = np.zeros([256,256], dtype=np.complex128)"
   ]
  },
  {
   "cell_type": "code",
   "execution_count": null,
   "metadata": {
    "collapsed": true
   },
   "outputs": [],
   "source": [
    "# set up a 2D coordinate grid:\n",
    "x = np.linspace(-4*np.pi, 4*np.pi, 400)\n",
    "y = np.linspace(-4*np.pi, 4*np.pi, 400)\n",
    "meshX, meshY = np.meshgrid(x, y)\n",
    "\n",
    "# evaluate some complex function for all coordinates on the grid\n",
    "pattern2D = np.cos(meshY) + np.exp(-1j * meshX)\n",
    "pattern2D.shape"
   ]
  },
  {
   "cell_type": "code",
   "execution_count": null,
   "metadata": {
    "collapsed": true
   },
   "outputs": [],
   "source": [
    "meshY"
   ]
  },
  {
   "cell_type": "code",
   "execution_count": null,
   "metadata": {
    "collapsed": true
   },
   "outputs": [],
   "source": [
    "pattern2D.dtype"
   ]
  },
  {
   "cell_type": "code",
   "execution_count": null,
   "metadata": {
    "collapsed": true
   },
   "outputs": [],
   "source": [
    "# show the real and imaginary part independently\n",
    "plt.figure()\n",
    "plt.imshow(pattern2D.real, cmap='gray')\n",
    "plt.show()\n",
    "\n",
    "plt.figure()\n",
    "plt.imshow(pattern2D.imag, cmap='gray')\n",
    "plt.show()"
   ]
  },
  {
   "cell_type": "code",
   "execution_count": null,
   "metadata": {
    "collapsed": true
   },
   "outputs": [],
   "source": [
    "# showing both channels together requires creating a RGB image of real numbers\n",
    "patternRGB = np.zeros([400,400,3], dtype=np.float64)\n",
    "patternRGB[:,:,0] = pattern2D.real # red channel for real part\n",
    "patternRGB[:,:,2] = pattern2D.imag # blue channel for imaginary part\n",
    "plt.figure()\n",
    "plt.imshow(patternRGB)\n",
    "plt.show()"
   ]
  },
  {
   "cell_type": "markdown",
   "metadata": {},
   "source": [
    "What happened above? The values in the red and blue channel now range from -1 to 1.\n",
    "Color images are expected to be in the range 0 to 1 (float), or 0 to 255 (integral), for each color channel.\n",
    "For grayscale images, `plt.imshow` can automatically normalize the data to the range $[0,1]$.\n",
    "Unfortunately, for color images we have to perform this normalization on our own. For any matrix $M$, denote the min and max values by $M_{min}$ and $M_{max}$ respectively. Then the 0-1-normalization can be performed as \n",
    "\n",
    "$$ \\hat{M} = \\frac{M - M_{min}}{M_{max}-M_{min}} $$"
   ]
  },
  {
   "cell_type": "code",
   "execution_count": null,
   "metadata": {
    "collapsed": true
   },
   "outputs": [],
   "source": [
    "# Let's try again but scale the data\n",
    "patternRGB = np.zeros([400,400,3], dtype=np.float64)\n",
    "minR = pattern2D.real.min()\n",
    "maxR = pattern2D.real.max()\n",
    "minI = pattern2D.imag.min()\n",
    "maxI = pattern2D.imag.max()\n",
    "patternRGB[:,:,0] = (pattern2D.real - minR) / (maxR - minR)\n",
    "patternRGB[:,:,2] = (pattern2D.imag - minI) / (maxI - minI)\n",
    "plt.figure()\n",
    "plt.imshow(patternRGB)\n",
    "plt.show()"
   ]
  },
  {
   "cell_type": "code",
   "execution_count": null,
   "metadata": {
    "collapsed": true
   },
   "outputs": [],
   "source": [
    "# crop out an area and show the sum of the absolute values of real and imaginary channel:\n",
    "crop2D = pattern2D[200:300, 150:250]\n",
    "cropAbsolute = np.abs(crop2D.real) + np.abs(crop2D.imag)\n",
    "plt.figure()\n",
    "plt.imshow(cropAbsolute, cmap='gray')\n",
    "plt.show()"
   ]
  },
  {
   "cell_type": "markdown",
   "metadata": {
    "collapsed": true
   },
   "source": [
    "## Further reading on python:\n",
    "\n",
    "* full course held two weeks ago at Uni Heidelberg by Ullrich Koethe in German: <br>\n",
    " [https://hackpad.com/Python-Kurs-fxJpABLeY8L](https://hackpad.com/Python-Kurs-fxJpABLeY8L)\n",
    "* Spyder intro: [https://www.youtube.com/watch?v=_pIQEh2H11s](https://www.youtube.com/watch?v=_pIQEh2H11s)\n",
    "* Python 3 basics: [http://askpython.com/](http://askpython.com/)\n",
    "* Extensive Python 3 tutorial: [http://www.python-course.eu/python3_course.php](http://www.python-course.eu/python3_course.php)\n",
    "* Numpy course: [http://www.python-course.eu/numpy.php](http://www.python-course.eu/numpy.php)\n",
    "* In IPython, type `?` after a function or class to get more documentation! IPyhon also has tab-completion."
   ]
  }
 ],
 "metadata": {
  "kernelspec": {
   "display_name": "Python 3",
   "language": "python",
   "name": "python3"
  },
  "language_info": {
   "codemirror_mode": {
    "name": "ipython",
    "version": 3
   },
   "file_extension": ".py",
   "mimetype": "text/x-python",
   "name": "python",
   "nbconvert_exporter": "python",
   "pygments_lexer": "ipython3",
   "version": "3.6.1"
  }
 },
 "nbformat": 4,
 "nbformat_minor": 1
}
